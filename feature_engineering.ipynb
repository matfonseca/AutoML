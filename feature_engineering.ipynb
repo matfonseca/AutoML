{
 "cells": [
  {
   "cell_type": "markdown",
   "id": "c0a7509e",
   "metadata": {},
   "source": [
    "# Universo a predecir\n",
    "Me voy a quedar solamente con los departamentos a vender de Argentina "
   ]
  },
  {
   "cell_type": "code",
   "execution_count": 1353,
   "id": "79f97d5f",
   "metadata": {},
   "outputs": [],
   "source": [
    "import pandas as pd"
   ]
  },
  {
   "cell_type": "code",
   "execution_count": 1354,
   "id": "207875ae",
   "metadata": {},
   "outputs": [],
   "source": [
    "dataset = pd.read_csv('dataset_cleaned.csv')"
   ]
  },
  {
   "cell_type": "code",
   "execution_count": 1355,
   "id": "f0eb1579",
   "metadata": {},
   "outputs": [],
   "source": [
    "dataset = dataset[dataset.l1 == 'Argentina']"
   ]
  },
  {
   "cell_type": "code",
   "execution_count": 1356,
   "id": "1bdf0ec2",
   "metadata": {},
   "outputs": [],
   "source": [
    "dataset = dataset[dataset.property_type == 'Departamento']"
   ]
  },
  {
   "cell_type": "code",
   "execution_count": 1357,
   "id": "e5b99046",
   "metadata": {},
   "outputs": [],
   "source": [
    "dataset = dataset[dataset.operation_type == \"Venta\"]"
   ]
  },
  {
   "cell_type": "code",
   "execution_count": 1358,
   "id": "1088790b",
   "metadata": {},
   "outputs": [
    {
     "name": "stdout",
     "output_type": "stream",
     "text": [
      "<class 'pandas.core.frame.DataFrame'>\n",
      "Int64Index: 305956 entries, 148 to 952399\n",
      "Data columns (total 24 columns):\n",
      " #   Column           Non-Null Count   Dtype  \n",
      "---  ------           --------------   -----  \n",
      " 0   id               305956 non-null  object \n",
      " 1   ad_type          305956 non-null  object \n",
      " 2   start_date       305956 non-null  object \n",
      " 3   end_date         305956 non-null  object \n",
      " 4   created_on       305956 non-null  object \n",
      " 5   lat              281166 non-null  float64\n",
      " 6   lon              281143 non-null  float64\n",
      " 7   l1               305956 non-null  object \n",
      " 8   l2               305956 non-null  object \n",
      " 9   l3               300920 non-null  object \n",
      " 10  l4               77301 non-null   object \n",
      " 11  rooms            284333 non-null  float64\n",
      " 12  bedrooms         243918 non-null  float64\n",
      " 13  bathrooms        285267 non-null  float64\n",
      " 14  surface_total    160312 non-null  float64\n",
      " 15  surface_covered  166755 non-null  float64\n",
      " 16  price            305956 non-null  float64\n",
      " 17  currency         305956 non-null  object \n",
      " 18  price_period     117042 non-null  object \n",
      " 19  title            305956 non-null  object \n",
      " 20  description      305953 non-null  object \n",
      " 21  property_type    305956 non-null  object \n",
      " 22  operation_type   305956 non-null  object \n",
      " 23  dolar_price      305956 non-null  float64\n",
      "dtypes: float64(9), object(15)\n",
      "memory usage: 58.4+ MB\n"
     ]
    }
   ],
   "source": [
    "dataset.info()"
   ]
  },
  {
   "cell_type": "code",
   "execution_count": 1359,
   "id": "4281bacb",
   "metadata": {},
   "outputs": [
    {
     "data": {
      "text/plain": [
       "True    305956\n",
       "dtype: int64"
      ]
     },
     "execution_count": 1359,
     "metadata": {},
     "output_type": "execute_result"
    }
   ],
   "source": [
    "(dataset[\"start_date\"] == dataset[\"created_on\"]).value_counts()"
   ]
  },
  {
   "cell_type": "code",
   "execution_count": 1360,
   "id": "50c93163",
   "metadata": {
    "scrolled": true
   },
   "outputs": [
    {
     "data": {
      "text/plain": [
       "Propiedad    305956\n",
       "Name: ad_type, dtype: int64"
      ]
     },
     "execution_count": 1360,
     "metadata": {},
     "output_type": "execute_result"
    }
   ],
   "source": [
    "dataset.ad_type.value_counts()"
   ]
  },
  {
   "cell_type": "code",
   "execution_count": 1361,
   "id": "539f2147",
   "metadata": {},
   "outputs": [],
   "source": [
    "feature_ignore = [\"price\", \"ad_type\", \"currency\", \"id\", \"created_on\", \"l4\", \"l3\", \"l1\", \"property_type\", \"operation_type\"]"
   ]
  },
  {
   "cell_type": "markdown",
   "id": "c36b23d3",
   "metadata": {},
   "source": [
    "Se eliminar las siguiente features:\n",
    "- price dado que vamos a utilizar el precio en dolares\n",
    "- ad_type todos tienen el mismo\n",
    "- currency dado que todo esta en dolares\n",
    "- id es un hash no va aportar informacion\n",
    "- created_on es igual a start_date siempre\n",
    "- l3 cardinalidad muy alta, muy homogeneo para los populares\n",
    "- l4 muchos valore nulos\n",
    "- l1 son todos de argentina\n",
    "- property_type son todos dptos\n",
    "- operation_type son todos ventas"
   ]
  },
  {
   "cell_type": "code",
   "execution_count": 1362,
   "id": "671414b2",
   "metadata": {},
   "outputs": [],
   "source": [
    "dataset = dataset.drop(columns=feature_ignore)"
   ]
  },
  {
   "cell_type": "code",
   "execution_count": 1363,
   "id": "a6ed51ec",
   "metadata": {
    "scrolled": true
   },
   "outputs": [
    {
     "name": "stdout",
     "output_type": "stream",
     "text": [
      "<class 'pandas.core.frame.DataFrame'>\n",
      "Int64Index: 305956 entries, 148 to 952399\n",
      "Data columns (total 14 columns):\n",
      " #   Column           Non-Null Count   Dtype  \n",
      "---  ------           --------------   -----  \n",
      " 0   start_date       305956 non-null  object \n",
      " 1   end_date         305956 non-null  object \n",
      " 2   lat              281166 non-null  float64\n",
      " 3   lon              281143 non-null  float64\n",
      " 4   l2               305956 non-null  object \n",
      " 5   rooms            284333 non-null  float64\n",
      " 6   bedrooms         243918 non-null  float64\n",
      " 7   bathrooms        285267 non-null  float64\n",
      " 8   surface_total    160312 non-null  float64\n",
      " 9   surface_covered  166755 non-null  float64\n",
      " 10  price_period     117042 non-null  object \n",
      " 11  title            305956 non-null  object \n",
      " 12  description      305953 non-null  object \n",
      " 13  dolar_price      305956 non-null  float64\n",
      "dtypes: float64(8), object(6)\n",
      "memory usage: 35.0+ MB\n"
     ]
    }
   ],
   "source": [
    "dataset.info()"
   ]
  },
  {
   "cell_type": "markdown",
   "id": "33781662",
   "metadata": {},
   "source": [
    "## Filtrar datos de mala calidad"
   ]
  },
  {
   "cell_type": "markdown",
   "id": "72d16b13",
   "metadata": {},
   "source": [
    "##### Departamentos que tienen surface total y covered nula"
   ]
  },
  {
   "cell_type": "code",
   "execution_count": 1378,
   "id": "9f26d5c0",
   "metadata": {},
   "outputs": [],
   "source": [
    "dataset_with_surface = dataset[dataset[\"surface_covered\"].isna() == False]"
   ]
  },
  {
   "cell_type": "markdown",
   "id": "61c284ce",
   "metadata": {},
   "source": [
    "completo las surface_total falta con surface_covered en caso que tenga, esto seria el minimo de surface_total que podria tener"
   ]
  },
  {
   "cell_type": "code",
   "execution_count": 1379,
   "id": "973708d4",
   "metadata": {},
   "outputs": [
    {
     "name": "stderr",
     "output_type": "stream",
     "text": [
      "/var/folders/0f/5_5y9d3s3vbct11zf1_b27fh1rn8qs/T/ipykernel_6312/1422539656.py:1: SettingWithCopyWarning: \n",
      "A value is trying to be set on a copy of a slice from a DataFrame.\n",
      "Try using .loc[row_indexer,col_indexer] = value instead\n",
      "\n",
      "See the caveats in the documentation: https://pandas.pydata.org/pandas-docs/stable/user_guide/indexing.html#returning-a-view-versus-a-copy\n",
      "  dataset_with_surface[\"surface_total\"] = dataset_with_surface.apply(lambda row: row[\"surface_covered\"] if pd.isnull(row[\"surface_total\"]) else row[\"surface_total\"], axis=1)\n"
     ]
    }
   ],
   "source": [
    "dataset_with_surface[\"surface_total\"] = dataset_with_surface.apply(lambda row: row[\"surface_covered\"] if pd.isnull(row[\"surface_total\"]) else row[\"surface_total\"], axis=1)"
   ]
  },
  {
   "cell_type": "code",
   "execution_count": 1380,
   "id": "ad9e06be",
   "metadata": {
    "scrolled": true
   },
   "outputs": [
    {
     "name": "stdout",
     "output_type": "stream",
     "text": [
      "<class 'pandas.core.frame.DataFrame'>\n",
      "Int64Index: 166755 entries, 148 to 952399\n",
      "Data columns (total 14 columns):\n",
      " #   Column           Non-Null Count   Dtype  \n",
      "---  ------           --------------   -----  \n",
      " 0   start_date       166755 non-null  object \n",
      " 1   end_date         166755 non-null  object \n",
      " 2   lat              152826 non-null  float64\n",
      " 3   lon              152826 non-null  float64\n",
      " 4   l2               166755 non-null  object \n",
      " 5   rooms            159638 non-null  float64\n",
      " 6   bedrooms         128885 non-null  float64\n",
      " 7   bathrooms        163084 non-null  float64\n",
      " 8   surface_total    166755 non-null  float64\n",
      " 9   surface_covered  166755 non-null  float64\n",
      " 10  price_period     92900 non-null   object \n",
      " 11  title            166755 non-null  object \n",
      " 12  description      166753 non-null  object \n",
      " 13  dolar_price      166755 non-null  float64\n",
      "dtypes: float64(8), object(6)\n",
      "memory usage: 19.1+ MB\n"
     ]
    }
   ],
   "source": [
    "dataset_with_surface.info()"
   ]
  },
  {
   "cell_type": "code",
   "execution_count": 1381,
   "id": "359bfba0",
   "metadata": {},
   "outputs": [],
   "source": [
    "coverage_filter_surface = round((166755/ 305956) * 100, 2) "
   ]
  },
  {
   "cell_type": "code",
   "execution_count": 1382,
   "id": "1d02fa23",
   "metadata": {},
   "outputs": [
    {
     "data": {
      "text/plain": [
       "'Dado que me quedo solo con dptos que tiene datos sobre superficie la cobertura es 54.5% del dataset de ventas'"
      ]
     },
     "execution_count": 1382,
     "metadata": {},
     "output_type": "execute_result"
    }
   ],
   "source": [
    "f\"Dado que me quedo solo con dptos que tiene datos sobre superficie la cobertura es {coverage_filter_surface}% del dataset de ventas\"\n"
   ]
  },
  {
   "cell_type": "markdown",
   "id": "1552e96b",
   "metadata": {},
   "source": [
    "##### Departamentos sin datos de bedrooms, rooms y bathrooms"
   ]
  },
  {
   "cell_type": "code",
   "execution_count": 1383,
   "id": "1fb4b03e",
   "metadata": {},
   "outputs": [
    {
     "name": "stdout",
     "output_type": "stream",
     "text": [
      "<class 'pandas.core.frame.DataFrame'>\n",
      "Int64Index: 124886 entries, 178 to 952399\n",
      "Data columns (total 14 columns):\n",
      " #   Column           Non-Null Count   Dtype  \n",
      "---  ------           --------------   -----  \n",
      " 0   start_date       124886 non-null  object \n",
      " 1   end_date         124886 non-null  object \n",
      " 2   lat              114995 non-null  float64\n",
      " 3   lon              114995 non-null  float64\n",
      " 4   l2               124886 non-null  object \n",
      " 5   rooms            124886 non-null  float64\n",
      " 6   bedrooms         124886 non-null  float64\n",
      " 7   bathrooms        124886 non-null  float64\n",
      " 8   surface_total    124886 non-null  float64\n",
      " 9   surface_covered  124886 non-null  float64\n",
      " 10  price_period     75083 non-null   object \n",
      " 11  title            124886 non-null  object \n",
      " 12  description      124886 non-null  object \n",
      " 13  dolar_price      124886 non-null  float64\n",
      "dtypes: float64(8), object(6)\n",
      "memory usage: 14.3+ MB\n"
     ]
    }
   ],
   "source": [
    "dataset_with_surface = dataset_with_surface[dataset_with_surface[\"bedrooms\"].isna() == False]\n",
    "dataset_with_surface = dataset_with_surface[dataset_with_surface[\"rooms\"].isna() == False]\n",
    "dataset_with_surface = dataset_with_surface[dataset_with_surface[\"bathrooms\"].isna() == False]\n",
    "dataset_with_surface.info()"
   ]
  },
  {
   "cell_type": "code",
   "execution_count": 1384,
   "id": "d78e0ee0",
   "metadata": {},
   "outputs": [],
   "source": [
    "coverage_filter_rooms = round((124886/ 166755) * coverage_filter_surface, 2) "
   ]
  },
  {
   "cell_type": "code",
   "execution_count": 1385,
   "id": "6879d271",
   "metadata": {},
   "outputs": [
    {
     "data": {
      "text/plain": [
       "'Dado que selecciono argentina y me quedo solo con dptos que tiene datos sobre superficie y rooms la cobertura es 40.82% del dataset original'"
      ]
     },
     "execution_count": 1385,
     "metadata": {},
     "output_type": "execute_result"
    }
   ],
   "source": [
    "f\"Dado que selecciono argentina y me quedo solo con dptos que tiene datos sobre superficie y rooms la cobertura es {coverage_filter_rooms}% del dataset original\"\n"
   ]
  },
  {
   "cell_type": "markdown",
   "id": "440efc5c",
   "metadata": {},
   "source": [
    "##### Departamentos sin longitud y latitud"
   ]
  },
  {
   "cell_type": "code",
   "execution_count": 1388,
   "id": "b36362b3",
   "metadata": {},
   "outputs": [],
   "source": [
    "dataset_venta = dataset_with_surface[dataset_with_surface[\"lat\"].isna() != True]\n",
    "dataset_venta = dataset_venta[dataset_venta.lon.isna() != True]"
   ]
  },
  {
   "cell_type": "code",
   "execution_count": 1389,
   "id": "a5b0d6db",
   "metadata": {},
   "outputs": [
    {
     "name": "stdout",
     "output_type": "stream",
     "text": [
      "<class 'pandas.core.frame.DataFrame'>\n",
      "Int64Index: 114995 entries, 178 to 952399\n",
      "Data columns (total 14 columns):\n",
      " #   Column           Non-Null Count   Dtype  \n",
      "---  ------           --------------   -----  \n",
      " 0   start_date       114995 non-null  object \n",
      " 1   end_date         114995 non-null  object \n",
      " 2   lat              114995 non-null  float64\n",
      " 3   lon              114995 non-null  float64\n",
      " 4   l2               114995 non-null  object \n",
      " 5   rooms            114995 non-null  float64\n",
      " 6   bedrooms         114995 non-null  float64\n",
      " 7   bathrooms        114995 non-null  float64\n",
      " 8   surface_total    114995 non-null  float64\n",
      " 9   surface_covered  114995 non-null  float64\n",
      " 10  price_period     67949 non-null   object \n",
      " 11  title            114995 non-null  object \n",
      " 12  description      114995 non-null  object \n",
      " 13  dolar_price      114995 non-null  float64\n",
      "dtypes: float64(8), object(6)\n",
      "memory usage: 13.2+ MB\n"
     ]
    }
   ],
   "source": [
    "dataset_venta.info()"
   ]
  },
  {
   "cell_type": "code",
   "execution_count": 1390,
   "id": "b1d097da",
   "metadata": {},
   "outputs": [],
   "source": [
    "coverage_geo = round((114995/ 124886) * coverage_filter_rooms, 2) "
   ]
  },
  {
   "cell_type": "code",
   "execution_count": 1391,
   "id": "62d76508",
   "metadata": {},
   "outputs": [
    {
     "data": {
      "text/plain": [
       "'Dado que selecciono argentina y me quedo solo con dptos que tiene datos sobre superficie, rooms y (lat,log) la cobertura es 37.59% del dataset original'"
      ]
     },
     "execution_count": 1391,
     "metadata": {},
     "output_type": "execute_result"
    }
   ],
   "source": [
    "f\"Dado que selecciono argentina y me quedo solo con dptos que tiene datos sobre superficie, rooms y (lat,log) la cobertura es {coverage_geo}% del dataset original\"\n"
   ]
  },
  {
   "cell_type": "markdown",
   "id": "9282347d",
   "metadata": {},
   "source": [
    "## Agrego caracteristica del titulo y descripcion"
   ]
  },
  {
   "cell_type": "code",
   "execution_count": 1392,
   "id": "a34a9246",
   "metadata": {},
   "outputs": [],
   "source": [
    "def has_feature(feature, row):\n",
    "    title = row[\"title\"]\n",
    "    description = row[\"description\"]\n",
    "    if feature in title.lower().split(\" \"):\n",
    "        return 1\n",
    "    elif type(description) != float and feature in description.lower().split(\" \"):\n",
    "        return 1\n",
    "    else:\n",
    "        return 0"
   ]
  },
  {
   "cell_type": "code",
   "execution_count": 1393,
   "id": "85816b77",
   "metadata": {},
   "outputs": [],
   "source": [
    "word_to_dig = {\n",
    "    \"uno\": \"1\",\n",
    "    \"dos\": \"2\",\n",
    "    \"tres\": \"3\",\n",
    "    \"cuatro\": \"4\",\n",
    "    \"cinco\": \"5\",\n",
    "    \"seis\": \"6\",\n",
    "    \"siete\": \"7\",\n",
    "    \"ocho\": \"8\",\n",
    "    \"nueve\": \"9\",\n",
    "    \"diez\": \"10\"\n",
    "}\n",
    "def convert_ambientes(amb):\n",
    "    if len(amb) == 1:\n",
    "        return amb\n",
    "    elif amb in [\"uno\", \"dos\", \"tres\", \"cuatro\", \"cinco\", \"seis\", \"siete\", \"ocho\", \"nueve\", \"diez\"]:\n",
    "        return word_to_dig[amb]\n",
    "    else:\n",
    "        \n",
    "        if len(amb) > 1 and amb[len(amb)-1].isdigit():\n",
    "            last_c = amb[len(amb)-1]\n",
    "            return last_c\n",
    "        else:\n",
    "            \"unknown\"\n",
    "        "
   ]
  },
  {
   "cell_type": "code",
   "execution_count": 1394,
   "id": "d53e9a5a",
   "metadata": {},
   "outputs": [],
   "source": [
    "def get_before_word_ambiente(feature, row):\n",
    "    title = row[\"title\"]\n",
    "    description = row[\"description\"]\n",
    "    title_words = title.lower().split(\" \")\n",
    "    description_words = description.lower().split(\" \")\n",
    "    if feature in title_words:\n",
    "        index = title_words.index(feature)\n",
    "        return convert_ambientes(title_words[index - 1])\n",
    "    elif type(description) != float and feature in description_words:\n",
    "        index = description_words.index(feature)\n",
    "        return convert_ambientes(description_words[index - 1])\n",
    "    else:\n",
    "        return \"unknown\""
   ]
  },
  {
   "cell_type": "code",
   "execution_count": 1395,
   "id": "4fe8779e",
   "metadata": {},
   "outputs": [],
   "source": [
    "def get_ambientes(feature, row):\n",
    "    valid_ambientes = [\"1\", \"2\", \"3\", \"4\", \"5\", \"6\", \"7\", \"8\", \"9\"]\n",
    "    amb = get_before_word_ambiente(feature, row)\n",
    "    if amb in valid_ambientes:\n",
    "        return amb\n",
    "    else:\n",
    "        return \"unknown\""
   ]
  },
  {
   "cell_type": "code",
   "execution_count": 1396,
   "id": "6613cf3d",
   "metadata": {},
   "outputs": [],
   "source": [
    "dataset_venta[\"new\"] = dataset_venta[\"title\"].map(lambda title:  \"nuevo\" in title.lower().split(\" \") or \"estrenar\" in title.lower().split(\" \"))"
   ]
  },
  {
   "cell_type": "code",
   "execution_count": 1397,
   "id": "57ce4de2",
   "metadata": {
    "scrolled": true
   },
   "outputs": [],
   "source": [
    "dataset_venta[\"new\"] = dataset_venta[\"new\"].map(lambda x: 1 if x else 0)"
   ]
  },
  {
   "cell_type": "code",
   "execution_count": 1398,
   "id": "109a8c0f",
   "metadata": {},
   "outputs": [],
   "source": [
    "dataset_venta[\"has_security\"] = dataset_venta.apply(lambda row: has_feature(\"seguridad\",row), axis=1)"
   ]
  },
  {
   "cell_type": "code",
   "execution_count": 1399,
   "id": "4ddee11f",
   "metadata": {},
   "outputs": [],
   "source": [
    "dataset_venta[\"has_pool\"] = dataset_venta.apply(lambda row: has_feature(\"pileta\",row), axis=1)"
   ]
  },
  {
   "cell_type": "code",
   "execution_count": 1400,
   "id": "dbc3e212",
   "metadata": {
    "scrolled": true
   },
   "outputs": [],
   "source": [
    "\n",
    "dataset_venta[\"has_parrilla\"] = dataset_venta.apply(lambda row: has_feature(\"parrilla\",row), axis=1)"
   ]
  },
  {
   "cell_type": "code",
   "execution_count": 1401,
   "id": "254bf185",
   "metadata": {},
   "outputs": [],
   "source": [
    "dataset_venta[\"has_lavadero\"] = dataset_venta.apply(lambda row: has_feature(\"lavadero\",row), axis=1)"
   ]
  },
  {
   "cell_type": "code",
   "execution_count": 1402,
   "id": "21271dde",
   "metadata": {},
   "outputs": [],
   "source": [
    "dataset_venta[\"has_laundry\"] = dataset_venta.apply(lambda row: has_feature(\"laundry\",row), axis=1)"
   ]
  },
  {
   "cell_type": "code",
   "execution_count": 1403,
   "id": "87e1829a",
   "metadata": {},
   "outputs": [],
   "source": [
    "dataset_venta[\"has_garage\"] = dataset_venta.apply(lambda row: has_feature(\"cochera\",row), axis=1)"
   ]
  },
  {
   "cell_type": "code",
   "execution_count": 1404,
   "id": "c74595a6",
   "metadata": {},
   "outputs": [],
   "source": [
    "dataset_venta[\"has_rooftop\"] = dataset_venta.apply(lambda row: has_feature(\"terraza\",row), axis=1)"
   ]
  },
  {
   "cell_type": "code",
   "execution_count": 1405,
   "id": "26427b70",
   "metadata": {},
   "outputs": [],
   "source": [
    "dataset_venta[\"monoambiente\"] = dataset_venta.apply(lambda row: has_feature(\"monoambiente\",row), axis=1)"
   ]
  },
  {
   "cell_type": "code",
   "execution_count": 1406,
   "id": "3a285bc7",
   "metadata": {},
   "outputs": [],
   "source": [
    "dataset_venta[\"has_balcony\"] = dataset_venta.apply(lambda row: has_feature(\"balcon\",row), axis=1)\n"
   ]
  },
  {
   "cell_type": "code",
   "execution_count": 1407,
   "id": "9452d597",
   "metadata": {
    "scrolled": true
   },
   "outputs": [],
   "source": [
    "dataset_venta[\"ambientes\"] = dataset_venta.apply(lambda row: get_ambientes(\"ambientes\",row), axis=1)"
   ]
  },
  {
   "cell_type": "code",
   "execution_count": 1408,
   "id": "2c4d337c",
   "metadata": {
    "scrolled": true
   },
   "outputs": [],
   "source": [
    "dataset_venta[\"front_side\"] = dataset_venta.apply(lambda row: has_feature(\"frente\",row), axis=1)"
   ]
  },
  {
   "cell_type": "markdown",
   "id": "cab0dc4a",
   "metadata": {},
   "source": [
    "### One hot encoding de price_period"
   ]
  },
  {
   "cell_type": "code",
   "execution_count": 1409,
   "id": "1678d974",
   "metadata": {},
   "outputs": [
    {
     "data": {
      "text/plain": [
       "Mensual    67949\n",
       "Name: price_period, dtype: int64"
      ]
     },
     "execution_count": 1409,
     "metadata": {},
     "output_type": "execute_result"
    }
   ],
   "source": [
    "dataset_venta.price_period.value_counts()"
   ]
  },
  {
   "cell_type": "code",
   "execution_count": 1410,
   "id": "87ce6e6f",
   "metadata": {},
   "outputs": [],
   "source": [
    "dataset_venta[\"price_period_mensual\"] =  dataset_venta.price_period.isna().map(lambda x: 0 if x else 1)"
   ]
  },
  {
   "cell_type": "code",
   "execution_count": 1411,
   "id": "5eaebac9",
   "metadata": {},
   "outputs": [],
   "source": [
    "feature_ignore_ventas = [ \"title\", \"description\", \"price_period\"]"
   ]
  },
  {
   "cell_type": "code",
   "execution_count": 1412,
   "id": "b2300009",
   "metadata": {},
   "outputs": [],
   "source": [
    "dataset_venta = dataset_venta.drop(columns = feature_ignore_ventas)\n"
   ]
  },
  {
   "cell_type": "code",
   "execution_count": 1413,
   "id": "a690edd1",
   "metadata": {},
   "outputs": [
    {
     "name": "stdout",
     "output_type": "stream",
     "text": [
      "<class 'pandas.core.frame.DataFrame'>\n",
      "Int64Index: 114995 entries, 178 to 952399\n",
      "Data columns (total 24 columns):\n",
      " #   Column                Non-Null Count   Dtype  \n",
      "---  ------                --------------   -----  \n",
      " 0   start_date            114995 non-null  object \n",
      " 1   end_date              114995 non-null  object \n",
      " 2   lat                   114995 non-null  float64\n",
      " 3   lon                   114995 non-null  float64\n",
      " 4   l2                    114995 non-null  object \n",
      " 5   rooms                 114995 non-null  float64\n",
      " 6   bedrooms              114995 non-null  float64\n",
      " 7   bathrooms             114995 non-null  float64\n",
      " 8   surface_total         114995 non-null  float64\n",
      " 9   surface_covered       114995 non-null  float64\n",
      " 10  dolar_price           114995 non-null  float64\n",
      " 11  new                   114995 non-null  int64  \n",
      " 12  has_security          114995 non-null  int64  \n",
      " 13  has_pool              114995 non-null  int64  \n",
      " 14  has_parrilla          114995 non-null  int64  \n",
      " 15  has_lavadero          114995 non-null  int64  \n",
      " 16  has_laundry           114995 non-null  int64  \n",
      " 17  has_garage            114995 non-null  int64  \n",
      " 18  has_rooftop           114995 non-null  int64  \n",
      " 19  monoambiente          114995 non-null  int64  \n",
      " 20  has_balcony           114995 non-null  int64  \n",
      " 21  ambientes             114995 non-null  object \n",
      " 22  front_side            114995 non-null  int64  \n",
      " 23  price_period_mensual  114995 non-null  int64  \n",
      "dtypes: float64(8), int64(12), object(4)\n",
      "memory usage: 21.9+ MB\n"
     ]
    }
   ],
   "source": [
    "dataset_venta.info()"
   ]
  },
  {
   "cell_type": "code",
   "execution_count": 1414,
   "id": "b9e070f8",
   "metadata": {},
   "outputs": [
    {
     "data": {
      "text/html": [
       "<div>\n",
       "<style scoped>\n",
       "    .dataframe tbody tr th:only-of-type {\n",
       "        vertical-align: middle;\n",
       "    }\n",
       "\n",
       "    .dataframe tbody tr th {\n",
       "        vertical-align: top;\n",
       "    }\n",
       "\n",
       "    .dataframe thead th {\n",
       "        text-align: right;\n",
       "    }\n",
       "</style>\n",
       "<table border=\"1\" class=\"dataframe\">\n",
       "  <thead>\n",
       "    <tr style=\"text-align: right;\">\n",
       "      <th></th>\n",
       "      <th>lat</th>\n",
       "      <th>lon</th>\n",
       "      <th>rooms</th>\n",
       "      <th>bedrooms</th>\n",
       "      <th>bathrooms</th>\n",
       "      <th>surface_total</th>\n",
       "      <th>surface_covered</th>\n",
       "      <th>dolar_price</th>\n",
       "      <th>new</th>\n",
       "      <th>has_security</th>\n",
       "      <th>has_pool</th>\n",
       "      <th>has_parrilla</th>\n",
       "      <th>has_lavadero</th>\n",
       "      <th>has_laundry</th>\n",
       "      <th>has_garage</th>\n",
       "      <th>has_rooftop</th>\n",
       "      <th>monoambiente</th>\n",
       "      <th>has_balcony</th>\n",
       "      <th>front_side</th>\n",
       "      <th>price_period_mensual</th>\n",
       "    </tr>\n",
       "  </thead>\n",
       "  <tbody>\n",
       "    <tr>\n",
       "      <th>count</th>\n",
       "      <td>114995.000000</td>\n",
       "      <td>114995.000000</td>\n",
       "      <td>114995.000000</td>\n",
       "      <td>114995.000000</td>\n",
       "      <td>114995.000000</td>\n",
       "      <td>1.149950e+05</td>\n",
       "      <td>1.149950e+05</td>\n",
       "      <td>1.149950e+05</td>\n",
       "      <td>114995.000000</td>\n",
       "      <td>114995.000000</td>\n",
       "      <td>114995.000000</td>\n",
       "      <td>114995.000000</td>\n",
       "      <td>114995.000000</td>\n",
       "      <td>114995.000000</td>\n",
       "      <td>114995.000000</td>\n",
       "      <td>114995.000000</td>\n",
       "      <td>114995.000000</td>\n",
       "      <td>114995.000000</td>\n",
       "      <td>114995.000000</td>\n",
       "      <td>114995.000000</td>\n",
       "    </tr>\n",
       "    <tr>\n",
       "      <th>mean</th>\n",
       "      <td>-34.452506</td>\n",
       "      <td>-59.009350</td>\n",
       "      <td>2.824558</td>\n",
       "      <td>1.805061</td>\n",
       "      <td>1.415740</td>\n",
       "      <td>3.060812e+02</td>\n",
       "      <td>2.855461e+02</td>\n",
       "      <td>2.159199e+05</td>\n",
       "      <td>0.057594</td>\n",
       "      <td>0.123710</td>\n",
       "      <td>0.086412</td>\n",
       "      <td>0.109240</td>\n",
       "      <td>0.210592</td>\n",
       "      <td>0.028897</td>\n",
       "      <td>0.251863</td>\n",
       "      <td>0.165703</td>\n",
       "      <td>0.046880</td>\n",
       "      <td>0.112483</td>\n",
       "      <td>0.262481</td>\n",
       "      <td>0.590887</td>\n",
       "    </tr>\n",
       "    <tr>\n",
       "      <th>std</th>\n",
       "      <td>1.236725</td>\n",
       "      <td>1.865180</td>\n",
       "      <td>1.194953</td>\n",
       "      <td>0.949015</td>\n",
       "      <td>0.741465</td>\n",
       "      <td>4.635632e+04</td>\n",
       "      <td>4.635462e+04</td>\n",
       "      <td>3.190003e+05</td>\n",
       "      <td>0.232975</td>\n",
       "      <td>0.329252</td>\n",
       "      <td>0.280973</td>\n",
       "      <td>0.311941</td>\n",
       "      <td>0.407731</td>\n",
       "      <td>0.167518</td>\n",
       "      <td>0.434085</td>\n",
       "      <td>0.371815</td>\n",
       "      <td>0.211383</td>\n",
       "      <td>0.315961</td>\n",
       "      <td>0.439985</td>\n",
       "      <td>0.491672</td>\n",
       "    </tr>\n",
       "    <tr>\n",
       "      <th>min</th>\n",
       "      <td>-54.828261</td>\n",
       "      <td>-71.672311</td>\n",
       "      <td>1.000000</td>\n",
       "      <td>-1.000000</td>\n",
       "      <td>1.000000</td>\n",
       "      <td>1.000000e+00</td>\n",
       "      <td>-2.000000e+00</td>\n",
       "      <td>4.792332e+03</td>\n",
       "      <td>0.000000</td>\n",
       "      <td>0.000000</td>\n",
       "      <td>0.000000</td>\n",
       "      <td>0.000000</td>\n",
       "      <td>0.000000</td>\n",
       "      <td>0.000000</td>\n",
       "      <td>0.000000</td>\n",
       "      <td>0.000000</td>\n",
       "      <td>0.000000</td>\n",
       "      <td>0.000000</td>\n",
       "      <td>0.000000</td>\n",
       "      <td>0.000000</td>\n",
       "    </tr>\n",
       "    <tr>\n",
       "      <th>25%</th>\n",
       "      <td>-34.617140</td>\n",
       "      <td>-58.555530</td>\n",
       "      <td>2.000000</td>\n",
       "      <td>1.000000</td>\n",
       "      <td>1.000000</td>\n",
       "      <td>4.700000e+01</td>\n",
       "      <td>4.300000e+01</td>\n",
       "      <td>8.900000e+04</td>\n",
       "      <td>0.000000</td>\n",
       "      <td>0.000000</td>\n",
       "      <td>0.000000</td>\n",
       "      <td>0.000000</td>\n",
       "      <td>0.000000</td>\n",
       "      <td>0.000000</td>\n",
       "      <td>0.000000</td>\n",
       "      <td>0.000000</td>\n",
       "      <td>0.000000</td>\n",
       "      <td>0.000000</td>\n",
       "      <td>0.000000</td>\n",
       "      <td>0.000000</td>\n",
       "    </tr>\n",
       "    <tr>\n",
       "      <th>50%</th>\n",
       "      <td>-34.588326</td>\n",
       "      <td>-58.451320</td>\n",
       "      <td>3.000000</td>\n",
       "      <td>2.000000</td>\n",
       "      <td>1.000000</td>\n",
       "      <td>6.500000e+01</td>\n",
       "      <td>5.800000e+01</td>\n",
       "      <td>1.370000e+05</td>\n",
       "      <td>0.000000</td>\n",
       "      <td>0.000000</td>\n",
       "      <td>0.000000</td>\n",
       "      <td>0.000000</td>\n",
       "      <td>0.000000</td>\n",
       "      <td>0.000000</td>\n",
       "      <td>0.000000</td>\n",
       "      <td>0.000000</td>\n",
       "      <td>0.000000</td>\n",
       "      <td>0.000000</td>\n",
       "      <td>0.000000</td>\n",
       "      <td>1.000000</td>\n",
       "    </tr>\n",
       "    <tr>\n",
       "      <th>75%</th>\n",
       "      <td>-34.544492</td>\n",
       "      <td>-58.408660</td>\n",
       "      <td>3.000000</td>\n",
       "      <td>2.000000</td>\n",
       "      <td>2.000000</td>\n",
       "      <td>9.300000e+01</td>\n",
       "      <td>8.100000e+01</td>\n",
       "      <td>2.280000e+05</td>\n",
       "      <td>0.000000</td>\n",
       "      <td>0.000000</td>\n",
       "      <td>0.000000</td>\n",
       "      <td>0.000000</td>\n",
       "      <td>0.000000</td>\n",
       "      <td>0.000000</td>\n",
       "      <td>1.000000</td>\n",
       "      <td>0.000000</td>\n",
       "      <td>0.000000</td>\n",
       "      <td>0.000000</td>\n",
       "      <td>1.000000</td>\n",
       "      <td>1.000000</td>\n",
       "    </tr>\n",
       "    <tr>\n",
       "      <th>max</th>\n",
       "      <td>-24.164866</td>\n",
       "      <td>-54.050372</td>\n",
       "      <td>32.000000</td>\n",
       "      <td>32.000000</td>\n",
       "      <td>19.000000</td>\n",
       "      <td>1.111111e+07</td>\n",
       "      <td>1.111111e+07</td>\n",
       "      <td>1.664306e+07</td>\n",
       "      <td>1.000000</td>\n",
       "      <td>1.000000</td>\n",
       "      <td>1.000000</td>\n",
       "      <td>1.000000</td>\n",
       "      <td>1.000000</td>\n",
       "      <td>1.000000</td>\n",
       "      <td>1.000000</td>\n",
       "      <td>1.000000</td>\n",
       "      <td>1.000000</td>\n",
       "      <td>1.000000</td>\n",
       "      <td>1.000000</td>\n",
       "      <td>1.000000</td>\n",
       "    </tr>\n",
       "  </tbody>\n",
       "</table>\n",
       "</div>"
      ],
      "text/plain": [
       "                 lat            lon          rooms       bedrooms  \\\n",
       "count  114995.000000  114995.000000  114995.000000  114995.000000   \n",
       "mean      -34.452506     -59.009350       2.824558       1.805061   \n",
       "std         1.236725       1.865180       1.194953       0.949015   \n",
       "min       -54.828261     -71.672311       1.000000      -1.000000   \n",
       "25%       -34.617140     -58.555530       2.000000       1.000000   \n",
       "50%       -34.588326     -58.451320       3.000000       2.000000   \n",
       "75%       -34.544492     -58.408660       3.000000       2.000000   \n",
       "max       -24.164866     -54.050372      32.000000      32.000000   \n",
       "\n",
       "           bathrooms  surface_total  surface_covered   dolar_price  \\\n",
       "count  114995.000000   1.149950e+05     1.149950e+05  1.149950e+05   \n",
       "mean        1.415740   3.060812e+02     2.855461e+02  2.159199e+05   \n",
       "std         0.741465   4.635632e+04     4.635462e+04  3.190003e+05   \n",
       "min         1.000000   1.000000e+00    -2.000000e+00  4.792332e+03   \n",
       "25%         1.000000   4.700000e+01     4.300000e+01  8.900000e+04   \n",
       "50%         1.000000   6.500000e+01     5.800000e+01  1.370000e+05   \n",
       "75%         2.000000   9.300000e+01     8.100000e+01  2.280000e+05   \n",
       "max        19.000000   1.111111e+07     1.111111e+07  1.664306e+07   \n",
       "\n",
       "                 new   has_security       has_pool   has_parrilla  \\\n",
       "count  114995.000000  114995.000000  114995.000000  114995.000000   \n",
       "mean        0.057594       0.123710       0.086412       0.109240   \n",
       "std         0.232975       0.329252       0.280973       0.311941   \n",
       "min         0.000000       0.000000       0.000000       0.000000   \n",
       "25%         0.000000       0.000000       0.000000       0.000000   \n",
       "50%         0.000000       0.000000       0.000000       0.000000   \n",
       "75%         0.000000       0.000000       0.000000       0.000000   \n",
       "max         1.000000       1.000000       1.000000       1.000000   \n",
       "\n",
       "        has_lavadero    has_laundry     has_garage    has_rooftop  \\\n",
       "count  114995.000000  114995.000000  114995.000000  114995.000000   \n",
       "mean        0.210592       0.028897       0.251863       0.165703   \n",
       "std         0.407731       0.167518       0.434085       0.371815   \n",
       "min         0.000000       0.000000       0.000000       0.000000   \n",
       "25%         0.000000       0.000000       0.000000       0.000000   \n",
       "50%         0.000000       0.000000       0.000000       0.000000   \n",
       "75%         0.000000       0.000000       1.000000       0.000000   \n",
       "max         1.000000       1.000000       1.000000       1.000000   \n",
       "\n",
       "        monoambiente    has_balcony     front_side  price_period_mensual  \n",
       "count  114995.000000  114995.000000  114995.000000         114995.000000  \n",
       "mean        0.046880       0.112483       0.262481              0.590887  \n",
       "std         0.211383       0.315961       0.439985              0.491672  \n",
       "min         0.000000       0.000000       0.000000              0.000000  \n",
       "25%         0.000000       0.000000       0.000000              0.000000  \n",
       "50%         0.000000       0.000000       0.000000              1.000000  \n",
       "75%         0.000000       0.000000       1.000000              1.000000  \n",
       "max         1.000000       1.000000       1.000000              1.000000  "
      ]
     },
     "execution_count": 1414,
     "metadata": {},
     "output_type": "execute_result"
    }
   ],
   "source": [
    "dataset_venta.describe()"
   ]
  },
  {
   "cell_type": "code",
   "execution_count": 1415,
   "id": "ba538d18",
   "metadata": {},
   "outputs": [
    {
     "data": {
      "text/html": [
       "<div>\n",
       "<style scoped>\n",
       "    .dataframe tbody tr th:only-of-type {\n",
       "        vertical-align: middle;\n",
       "    }\n",
       "\n",
       "    .dataframe tbody tr th {\n",
       "        vertical-align: top;\n",
       "    }\n",
       "\n",
       "    .dataframe thead th {\n",
       "        text-align: right;\n",
       "    }\n",
       "</style>\n",
       "<table border=\"1\" class=\"dataframe\">\n",
       "  <thead>\n",
       "    <tr style=\"text-align: right;\">\n",
       "      <th></th>\n",
       "      <th>start_date</th>\n",
       "      <th>end_date</th>\n",
       "      <th>lat</th>\n",
       "      <th>lon</th>\n",
       "      <th>l2</th>\n",
       "      <th>rooms</th>\n",
       "      <th>bedrooms</th>\n",
       "      <th>bathrooms</th>\n",
       "      <th>surface_total</th>\n",
       "      <th>surface_covered</th>\n",
       "      <th>...</th>\n",
       "      <th>has_parrilla</th>\n",
       "      <th>has_lavadero</th>\n",
       "      <th>has_laundry</th>\n",
       "      <th>has_garage</th>\n",
       "      <th>has_rooftop</th>\n",
       "      <th>monoambiente</th>\n",
       "      <th>has_balcony</th>\n",
       "      <th>ambientes</th>\n",
       "      <th>front_side</th>\n",
       "      <th>price_period_mensual</th>\n",
       "    </tr>\n",
       "  </thead>\n",
       "  <tbody>\n",
       "    <tr>\n",
       "      <th>178</th>\n",
       "      <td>2020-08-22</td>\n",
       "      <td>2020-09-04</td>\n",
       "      <td>-34.610426</td>\n",
       "      <td>-58.414646</td>\n",
       "      <td>Capital Federal</td>\n",
       "      <td>2.0</td>\n",
       "      <td>1.0</td>\n",
       "      <td>1.0</td>\n",
       "      <td>47.0</td>\n",
       "      <td>40.0</td>\n",
       "      <td>...</td>\n",
       "      <td>0</td>\n",
       "      <td>1</td>\n",
       "      <td>0</td>\n",
       "      <td>0</td>\n",
       "      <td>1</td>\n",
       "      <td>0</td>\n",
       "      <td>0</td>\n",
       "      <td>unknown</td>\n",
       "      <td>0</td>\n",
       "      <td>1</td>\n",
       "    </tr>\n",
       "    <tr>\n",
       "      <th>182</th>\n",
       "      <td>2020-08-22</td>\n",
       "      <td>2020-09-04</td>\n",
       "      <td>-34.644068</td>\n",
       "      <td>-58.595643</td>\n",
       "      <td>Bs.As. G.B.A. Zona Oeste</td>\n",
       "      <td>2.0</td>\n",
       "      <td>1.0</td>\n",
       "      <td>1.0</td>\n",
       "      <td>42.0</td>\n",
       "      <td>42.0</td>\n",
       "      <td>...</td>\n",
       "      <td>0</td>\n",
       "      <td>0</td>\n",
       "      <td>0</td>\n",
       "      <td>0</td>\n",
       "      <td>0</td>\n",
       "      <td>0</td>\n",
       "      <td>0</td>\n",
       "      <td>2</td>\n",
       "      <td>0</td>\n",
       "      <td>1</td>\n",
       "    </tr>\n",
       "    <tr>\n",
       "      <th>183</th>\n",
       "      <td>2020-08-22</td>\n",
       "      <td>2020-09-04</td>\n",
       "      <td>-34.610426</td>\n",
       "      <td>-58.414646</td>\n",
       "      <td>Capital Federal</td>\n",
       "      <td>2.0</td>\n",
       "      <td>1.0</td>\n",
       "      <td>1.0</td>\n",
       "      <td>47.0</td>\n",
       "      <td>40.0</td>\n",
       "      <td>...</td>\n",
       "      <td>0</td>\n",
       "      <td>1</td>\n",
       "      <td>0</td>\n",
       "      <td>0</td>\n",
       "      <td>1</td>\n",
       "      <td>0</td>\n",
       "      <td>0</td>\n",
       "      <td>unknown</td>\n",
       "      <td>0</td>\n",
       "      <td>1</td>\n",
       "    </tr>\n",
       "    <tr>\n",
       "      <th>184</th>\n",
       "      <td>2020-08-22</td>\n",
       "      <td>2020-09-04</td>\n",
       "      <td>-34.557191</td>\n",
       "      <td>-58.480192</td>\n",
       "      <td>Capital Federal</td>\n",
       "      <td>2.0</td>\n",
       "      <td>1.0</td>\n",
       "      <td>1.0</td>\n",
       "      <td>83.0</td>\n",
       "      <td>42.0</td>\n",
       "      <td>...</td>\n",
       "      <td>1</td>\n",
       "      <td>0</td>\n",
       "      <td>0</td>\n",
       "      <td>1</td>\n",
       "      <td>1</td>\n",
       "      <td>0</td>\n",
       "      <td>0</td>\n",
       "      <td>2</td>\n",
       "      <td>0</td>\n",
       "      <td>1</td>\n",
       "    </tr>\n",
       "    <tr>\n",
       "      <th>185</th>\n",
       "      <td>2020-08-22</td>\n",
       "      <td>2020-09-04</td>\n",
       "      <td>-34.347729</td>\n",
       "      <td>-58.799160</td>\n",
       "      <td>Bs.As. G.B.A. Zona Norte</td>\n",
       "      <td>2.0</td>\n",
       "      <td>1.0</td>\n",
       "      <td>1.0</td>\n",
       "      <td>55.0</td>\n",
       "      <td>40.0</td>\n",
       "      <td>...</td>\n",
       "      <td>1</td>\n",
       "      <td>0</td>\n",
       "      <td>0</td>\n",
       "      <td>0</td>\n",
       "      <td>0</td>\n",
       "      <td>0</td>\n",
       "      <td>0</td>\n",
       "      <td>unknown</td>\n",
       "      <td>0</td>\n",
       "      <td>1</td>\n",
       "    </tr>\n",
       "  </tbody>\n",
       "</table>\n",
       "<p>5 rows × 24 columns</p>\n",
       "</div>"
      ],
      "text/plain": [
       "     start_date    end_date        lat        lon                        l2  \\\n",
       "178  2020-08-22  2020-09-04 -34.610426 -58.414646           Capital Federal   \n",
       "182  2020-08-22  2020-09-04 -34.644068 -58.595643  Bs.As. G.B.A. Zona Oeste   \n",
       "183  2020-08-22  2020-09-04 -34.610426 -58.414646           Capital Federal   \n",
       "184  2020-08-22  2020-09-04 -34.557191 -58.480192           Capital Federal   \n",
       "185  2020-08-22  2020-09-04 -34.347729 -58.799160  Bs.As. G.B.A. Zona Norte   \n",
       "\n",
       "     rooms  bedrooms  bathrooms  surface_total  surface_covered  ...  \\\n",
       "178    2.0       1.0        1.0           47.0             40.0  ...   \n",
       "182    2.0       1.0        1.0           42.0             42.0  ...   \n",
       "183    2.0       1.0        1.0           47.0             40.0  ...   \n",
       "184    2.0       1.0        1.0           83.0             42.0  ...   \n",
       "185    2.0       1.0        1.0           55.0             40.0  ...   \n",
       "\n",
       "     has_parrilla  has_lavadero  has_laundry  has_garage  has_rooftop  \\\n",
       "178             0             1            0           0            1   \n",
       "182             0             0            0           0            0   \n",
       "183             0             1            0           0            1   \n",
       "184             1             0            0           1            1   \n",
       "185             1             0            0           0            0   \n",
       "\n",
       "     monoambiente  has_balcony  ambientes  front_side  price_period_mensual  \n",
       "178             0            0    unknown           0                     1  \n",
       "182             0            0          2           0                     1  \n",
       "183             0            0    unknown           0                     1  \n",
       "184             0            0          2           0                     1  \n",
       "185             0            0    unknown           0                     1  \n",
       "\n",
       "[5 rows x 24 columns]"
      ]
     },
     "execution_count": 1415,
     "metadata": {},
     "output_type": "execute_result"
    }
   ],
   "source": [
    "dataset_venta.head()"
   ]
  },
  {
   "cell_type": "markdown",
   "id": "7c350ce1",
   "metadata": {},
   "source": [
    "### Descompongo fecha"
   ]
  },
  {
   "cell_type": "code",
   "execution_count": 1416,
   "id": "afac2bb4",
   "metadata": {},
   "outputs": [],
   "source": [
    "dataset_venta[\"year\"] = pd.to_datetime(dataset_venta['start_date'], format='%Y-%m-%d').map(lambda date: date.year)\n",
    "dataset_venta[\"month\"] = pd.to_datetime(dataset_venta['start_date'], format='%Y-%m-%d').map(lambda date: date.month)\n",
    "dataset_venta[\"day\"] = pd.to_datetime(dataset_venta['start_date'], format='%Y-%m-%d').map(lambda date: date.day)"
   ]
  },
  {
   "cell_type": "code",
   "execution_count": 1417,
   "id": "2c511186",
   "metadata": {},
   "outputs": [],
   "source": [
    "dataset_venta[\"duration\"] = dataset_venta.apply(lambda row: \"inf\" if row['end_date'] == \"9999-12-31\" else (pd.to_datetime(row['end_date'], format='%Y-%m-%d') - pd.to_datetime(row['start_date'], format='%Y-%m-%d')).days , axis=1)"
   ]
  },
  {
   "cell_type": "code",
   "execution_count": 1418,
   "id": "9910f59a",
   "metadata": {},
   "outputs": [],
   "source": [
    "dataset_venta = dataset_venta.drop(columns=[\"start_date\", \"end_date\"])"
   ]
  },
  {
   "cell_type": "markdown",
   "id": "b52f55ce",
   "metadata": {},
   "source": [
    "### Me quedo con zonas mas populares"
   ]
  },
  {
   "cell_type": "code",
   "execution_count": 1419,
   "id": "8382cb6e",
   "metadata": {},
   "outputs": [
    {
     "data": {
      "text/plain": [
       "Capital Federal                 67944\n",
       "Bs.As. G.B.A. Zona Norte        14591\n",
       "Santa Fe                        10609\n",
       "Bs.As. G.B.A. Zona Sur           8375\n",
       "Bs.As. G.B.A. Zona Oeste         4881\n",
       "Córdoba                          2800\n",
       "Buenos Aires Costa Atlántica     2538\n",
       "Neuquén                          1185\n",
       "Río Negro                         521\n",
       "Mendoza                           467\n",
       "Buenos Aires Interior             360\n",
       "Tucumán                           261\n",
       "Salta                             137\n",
       "Entre Ríos                        102\n",
       "San Juan                           78\n",
       "Misiones                           61\n",
       "Jujuy                              26\n",
       "Chaco                              18\n",
       "Chubut                             16\n",
       "La Pampa                           12\n",
       "San Luis                            7\n",
       "Tierra Del Fuego                    6\n",
       "Name: l2, dtype: int64"
      ]
     },
     "execution_count": 1419,
     "metadata": {},
     "output_type": "execute_result"
    }
   ],
   "source": [
    "dataset_venta.l2.value_counts()"
   ]
  },
  {
   "cell_type": "code",
   "execution_count": 1420,
   "id": "7a6116bf",
   "metadata": {},
   "outputs": [],
   "source": [
    "dataset_venta[\"l2_cap_federal\"] = dataset_venta.l2.map(lambda l2: 1 if l2 == \"Capital Federal\" else 0)\n",
    "dataset_venta[\"l2_bsas_zona_norte\"] = dataset_venta.l2.map(lambda l2: 1 if l2 == \"Bs.As. G.B.A. Zona Norte\" else 0)\n",
    "dataset_venta[\"l2_bsas_zona_sur\"] = dataset_venta.l2.map(lambda l2: 1 if l2 == \"Bs.As. G.B.A. Zona Sur\" else 0)\n",
    "dataset_venta[\"l2_bsas_zona_oeste\"] = dataset_venta.l2.map(lambda l2: 1 if l2 == \"Bs.As. G.B.A. Zona Oeste\" else 0)\n",
    "dataset_venta[\"l2_santa_fe\"] = dataset_venta.l2.map(lambda l2: 1 if l2 == \"Santa Fe\" else 0)\n",
    "dataset_venta[\"l2_costa_atlantica\"] = dataset_venta.l2.map(lambda l2: 1 if l2 == \"Buenos Aires Costa Atlántica\" else 0)"
   ]
  },
  {
   "cell_type": "code",
   "execution_count": 1421,
   "id": "8ad0110f",
   "metadata": {},
   "outputs": [],
   "source": [
    "dataset_venta = dataset_venta.drop(columns=[\"l2\"])"
   ]
  },
  {
   "cell_type": "code",
   "execution_count": 1422,
   "id": "5358c0cb",
   "metadata": {},
   "outputs": [
    {
     "name": "stdout",
     "output_type": "stream",
     "text": [
      "<class 'pandas.core.frame.DataFrame'>\n",
      "Int64Index: 114995 entries, 178 to 952399\n",
      "Data columns (total 31 columns):\n",
      " #   Column                Non-Null Count   Dtype  \n",
      "---  ------                --------------   -----  \n",
      " 0   lat                   114995 non-null  float64\n",
      " 1   lon                   114995 non-null  float64\n",
      " 2   rooms                 114995 non-null  float64\n",
      " 3   bedrooms              114995 non-null  float64\n",
      " 4   bathrooms             114995 non-null  float64\n",
      " 5   surface_total         114995 non-null  float64\n",
      " 6   surface_covered       114995 non-null  float64\n",
      " 7   dolar_price           114995 non-null  float64\n",
      " 8   new                   114995 non-null  int64  \n",
      " 9   has_security          114995 non-null  int64  \n",
      " 10  has_pool              114995 non-null  int64  \n",
      " 11  has_parrilla          114995 non-null  int64  \n",
      " 12  has_lavadero          114995 non-null  int64  \n",
      " 13  has_laundry           114995 non-null  int64  \n",
      " 14  has_garage            114995 non-null  int64  \n",
      " 15  has_rooftop           114995 non-null  int64  \n",
      " 16  monoambiente          114995 non-null  int64  \n",
      " 17  has_balcony           114995 non-null  int64  \n",
      " 18  ambientes             114995 non-null  object \n",
      " 19  front_side            114995 non-null  int64  \n",
      " 20  price_period_mensual  114995 non-null  int64  \n",
      " 21  year                  114995 non-null  int64  \n",
      " 22  month                 114995 non-null  int64  \n",
      " 23  day                   114995 non-null  int64  \n",
      " 24  duration              114995 non-null  object \n",
      " 25  l2_cap_federal        114995 non-null  int64  \n",
      " 26  l2_bsas_zona_norte    114995 non-null  int64  \n",
      " 27  l2_bsas_zona_sur      114995 non-null  int64  \n",
      " 28  l2_bsas_zona_oeste    114995 non-null  int64  \n",
      " 29  l2_santa_fe           114995 non-null  int64  \n",
      " 30  l2_costa_atlantica    114995 non-null  int64  \n",
      "dtypes: float64(8), int64(21), object(2)\n",
      "memory usage: 28.1+ MB\n"
     ]
    }
   ],
   "source": [
    "dataset_venta.info()"
   ]
  },
  {
   "cell_type": "code",
   "execution_count": 1423,
   "id": "a4b41e5d",
   "metadata": {},
   "outputs": [],
   "source": [
    "dataset_venta.to_csv('dataset_dptos_venta_with_amenities.csv', index=False)\n"
   ]
  },
  {
   "cell_type": "markdown",
   "id": "c5bda39b",
   "metadata": {},
   "source": [
    "#### Saco inmuebles extremadamente caros - outliers"
   ]
  },
  {
   "cell_type": "code",
   "execution_count": 1,
   "id": "088c573a",
   "metadata": {},
   "outputs": [],
   "source": [
    "import pandas as pd\n"
   ]
  },
  {
   "cell_type": "code",
   "execution_count": 2,
   "id": "84fc3fbc",
   "metadata": {},
   "outputs": [],
   "source": [
    "dataset_venta = pd.read_csv(\"dataset_dptos_venta_with_amenities.csv\")"
   ]
  },
  {
   "cell_type": "code",
   "execution_count": 3,
   "id": "b1e605d5",
   "metadata": {},
   "outputs": [
    {
     "data": {
      "text/plain": [
       "0.99    1500000.0\n",
       "Name: dolar_price, dtype: float64"
      ]
     },
     "execution_count": 3,
     "metadata": {},
     "output_type": "execute_result"
    }
   ],
   "source": [
    "dataset_venta[\"dolar_price\"].quantile([.99])"
   ]
  },
  {
   "cell_type": "code",
   "execution_count": 4,
   "id": "6febff09",
   "metadata": {},
   "outputs": [],
   "source": [
    "dataset_venta = dataset_venta[dataset_venta[\"dolar_price\"] < 1500000.0]"
   ]
  },
  {
   "cell_type": "code",
   "execution_count": 5,
   "id": "6bf34a6a",
   "metadata": {},
   "outputs": [
    {
     "data": {
      "text/html": [
       "<div>\n",
       "<style scoped>\n",
       "    .dataframe tbody tr th:only-of-type {\n",
       "        vertical-align: middle;\n",
       "    }\n",
       "\n",
       "    .dataframe tbody tr th {\n",
       "        vertical-align: top;\n",
       "    }\n",
       "\n",
       "    .dataframe thead th {\n",
       "        text-align: right;\n",
       "    }\n",
       "</style>\n",
       "<table border=\"1\" class=\"dataframe\">\n",
       "  <thead>\n",
       "    <tr style=\"text-align: right;\">\n",
       "      <th></th>\n",
       "      <th>lat</th>\n",
       "      <th>lon</th>\n",
       "      <th>rooms</th>\n",
       "      <th>bedrooms</th>\n",
       "      <th>bathrooms</th>\n",
       "      <th>surface_total</th>\n",
       "      <th>surface_covered</th>\n",
       "      <th>dolar_price</th>\n",
       "      <th>new</th>\n",
       "      <th>has_security</th>\n",
       "      <th>...</th>\n",
       "      <th>year</th>\n",
       "      <th>month</th>\n",
       "      <th>day</th>\n",
       "      <th>duration</th>\n",
       "      <th>l2_cap_federal</th>\n",
       "      <th>l2_bsas_zona_norte</th>\n",
       "      <th>l2_bsas_zona_sur</th>\n",
       "      <th>l2_bsas_zona_oeste</th>\n",
       "      <th>l2_santa_fe</th>\n",
       "      <th>l2_costa_atlantica</th>\n",
       "    </tr>\n",
       "  </thead>\n",
       "  <tbody>\n",
       "    <tr>\n",
       "      <th>count</th>\n",
       "      <td>113777.000000</td>\n",
       "      <td>113777.000000</td>\n",
       "      <td>113777.000000</td>\n",
       "      <td>113777.000000</td>\n",
       "      <td>113777.000000</td>\n",
       "      <td>1.137770e+05</td>\n",
       "      <td>1.137770e+05</td>\n",
       "      <td>1.137770e+05</td>\n",
       "      <td>113777.000000</td>\n",
       "      <td>113777.000000</td>\n",
       "      <td>...</td>\n",
       "      <td>113777.000000</td>\n",
       "      <td>113777.000000</td>\n",
       "      <td>113777.000000</td>\n",
       "      <td>113777.0</td>\n",
       "      <td>113777.000000</td>\n",
       "      <td>113777.000000</td>\n",
       "      <td>113777.00000</td>\n",
       "      <td>113777.000000</td>\n",
       "      <td>113777.000000</td>\n",
       "      <td>113777.000000</td>\n",
       "    </tr>\n",
       "    <tr>\n",
       "      <th>mean</th>\n",
       "      <td>-34.451158</td>\n",
       "      <td>-59.014953</td>\n",
       "      <td>2.797499</td>\n",
       "      <td>1.784886</td>\n",
       "      <td>1.391230</td>\n",
       "      <td>3.029816e+02</td>\n",
       "      <td>2.851095e+02</td>\n",
       "      <td>1.924887e+05</td>\n",
       "      <td>0.057709</td>\n",
       "      <td>0.122002</td>\n",
       "      <td>...</td>\n",
       "      <td>2020.412913</td>\n",
       "      <td>6.596263</td>\n",
       "      <td>15.786811</td>\n",
       "      <td>inf</td>\n",
       "      <td>0.586955</td>\n",
       "      <td>0.127961</td>\n",
       "      <td>0.07360</td>\n",
       "      <td>0.042900</td>\n",
       "      <td>0.093138</td>\n",
       "      <td>0.022289</td>\n",
       "    </tr>\n",
       "    <tr>\n",
       "      <th>std</th>\n",
       "      <td>1.242242</td>\n",
       "      <td>1.872416</td>\n",
       "      <td>1.158352</td>\n",
       "      <td>0.925278</td>\n",
       "      <td>0.695465</td>\n",
       "      <td>4.660263e+04</td>\n",
       "      <td>4.660207e+04</td>\n",
       "      <td>1.829922e+05</td>\n",
       "      <td>0.233194</td>\n",
       "      <td>0.327289</td>\n",
       "      <td>...</td>\n",
       "      <td>0.492360</td>\n",
       "      <td>3.134237</td>\n",
       "      <td>8.719953</td>\n",
       "      <td>NaN</td>\n",
       "      <td>0.492383</td>\n",
       "      <td>0.334048</td>\n",
       "      <td>0.26112</td>\n",
       "      <td>0.202632</td>\n",
       "      <td>0.290627</td>\n",
       "      <td>0.147623</td>\n",
       "    </tr>\n",
       "    <tr>\n",
       "      <th>min</th>\n",
       "      <td>-54.828261</td>\n",
       "      <td>-71.672311</td>\n",
       "      <td>1.000000</td>\n",
       "      <td>-1.000000</td>\n",
       "      <td>1.000000</td>\n",
       "      <td>1.000000e+00</td>\n",
       "      <td>-2.000000e+00</td>\n",
       "      <td>4.792332e+03</td>\n",
       "      <td>0.000000</td>\n",
       "      <td>0.000000</td>\n",
       "      <td>...</td>\n",
       "      <td>2020.000000</td>\n",
       "      <td>1.000000</td>\n",
       "      <td>1.000000</td>\n",
       "      <td>0.0</td>\n",
       "      <td>0.000000</td>\n",
       "      <td>0.000000</td>\n",
       "      <td>0.00000</td>\n",
       "      <td>0.000000</td>\n",
       "      <td>0.000000</td>\n",
       "      <td>0.000000</td>\n",
       "    </tr>\n",
       "    <tr>\n",
       "      <th>25%</th>\n",
       "      <td>-34.617460</td>\n",
       "      <td>-58.557645</td>\n",
       "      <td>2.000000</td>\n",
       "      <td>1.000000</td>\n",
       "      <td>1.000000</td>\n",
       "      <td>4.700000e+01</td>\n",
       "      <td>4.300000e+01</td>\n",
       "      <td>8.900000e+04</td>\n",
       "      <td>0.000000</td>\n",
       "      <td>0.000000</td>\n",
       "      <td>...</td>\n",
       "      <td>2020.000000</td>\n",
       "      <td>4.000000</td>\n",
       "      <td>8.000000</td>\n",
       "      <td>11.0</td>\n",
       "      <td>0.000000</td>\n",
       "      <td>0.000000</td>\n",
       "      <td>0.00000</td>\n",
       "      <td>0.000000</td>\n",
       "      <td>0.000000</td>\n",
       "      <td>0.000000</td>\n",
       "    </tr>\n",
       "    <tr>\n",
       "      <th>50%</th>\n",
       "      <td>-34.588513</td>\n",
       "      <td>-58.452158</td>\n",
       "      <td>3.000000</td>\n",
       "      <td>2.000000</td>\n",
       "      <td>1.000000</td>\n",
       "      <td>6.400000e+01</td>\n",
       "      <td>5.700000e+01</td>\n",
       "      <td>1.350000e+05</td>\n",
       "      <td>0.000000</td>\n",
       "      <td>0.000000</td>\n",
       "      <td>...</td>\n",
       "      <td>2020.000000</td>\n",
       "      <td>6.000000</td>\n",
       "      <td>16.000000</td>\n",
       "      <td>42.0</td>\n",
       "      <td>1.000000</td>\n",
       "      <td>0.000000</td>\n",
       "      <td>0.00000</td>\n",
       "      <td>0.000000</td>\n",
       "      <td>0.000000</td>\n",
       "      <td>0.000000</td>\n",
       "    </tr>\n",
       "    <tr>\n",
       "      <th>75%</th>\n",
       "      <td>-34.543564</td>\n",
       "      <td>-58.409284</td>\n",
       "      <td>3.000000</td>\n",
       "      <td>2.000000</td>\n",
       "      <td>2.000000</td>\n",
       "      <td>9.100000e+01</td>\n",
       "      <td>8.000000e+01</td>\n",
       "      <td>2.200000e+05</td>\n",
       "      <td>0.000000</td>\n",
       "      <td>0.000000</td>\n",
       "      <td>...</td>\n",
       "      <td>2021.000000</td>\n",
       "      <td>9.000000</td>\n",
       "      <td>23.000000</td>\n",
       "      <td>136.0</td>\n",
       "      <td>1.000000</td>\n",
       "      <td>0.000000</td>\n",
       "      <td>0.00000</td>\n",
       "      <td>0.000000</td>\n",
       "      <td>0.000000</td>\n",
       "      <td>0.000000</td>\n",
       "    </tr>\n",
       "    <tr>\n",
       "      <th>max</th>\n",
       "      <td>-24.164866</td>\n",
       "      <td>-54.050372</td>\n",
       "      <td>32.000000</td>\n",
       "      <td>32.000000</td>\n",
       "      <td>18.000000</td>\n",
       "      <td>1.111111e+07</td>\n",
       "      <td>1.111111e+07</td>\n",
       "      <td>1.499000e+06</td>\n",
       "      <td>1.000000</td>\n",
       "      <td>1.000000</td>\n",
       "      <td>...</td>\n",
       "      <td>2021.000000</td>\n",
       "      <td>12.000000</td>\n",
       "      <td>31.000000</td>\n",
       "      <td>inf</td>\n",
       "      <td>1.000000</td>\n",
       "      <td>1.000000</td>\n",
       "      <td>1.00000</td>\n",
       "      <td>1.000000</td>\n",
       "      <td>1.000000</td>\n",
       "      <td>1.000000</td>\n",
       "    </tr>\n",
       "  </tbody>\n",
       "</table>\n",
       "<p>8 rows × 30 columns</p>\n",
       "</div>"
      ],
      "text/plain": [
       "                 lat            lon          rooms       bedrooms  \\\n",
       "count  113777.000000  113777.000000  113777.000000  113777.000000   \n",
       "mean      -34.451158     -59.014953       2.797499       1.784886   \n",
       "std         1.242242       1.872416       1.158352       0.925278   \n",
       "min       -54.828261     -71.672311       1.000000      -1.000000   \n",
       "25%       -34.617460     -58.557645       2.000000       1.000000   \n",
       "50%       -34.588513     -58.452158       3.000000       2.000000   \n",
       "75%       -34.543564     -58.409284       3.000000       2.000000   \n",
       "max       -24.164866     -54.050372      32.000000      32.000000   \n",
       "\n",
       "           bathrooms  surface_total  surface_covered   dolar_price  \\\n",
       "count  113777.000000   1.137770e+05     1.137770e+05  1.137770e+05   \n",
       "mean        1.391230   3.029816e+02     2.851095e+02  1.924887e+05   \n",
       "std         0.695465   4.660263e+04     4.660207e+04  1.829922e+05   \n",
       "min         1.000000   1.000000e+00    -2.000000e+00  4.792332e+03   \n",
       "25%         1.000000   4.700000e+01     4.300000e+01  8.900000e+04   \n",
       "50%         1.000000   6.400000e+01     5.700000e+01  1.350000e+05   \n",
       "75%         2.000000   9.100000e+01     8.000000e+01  2.200000e+05   \n",
       "max        18.000000   1.111111e+07     1.111111e+07  1.499000e+06   \n",
       "\n",
       "                 new   has_security  ...           year          month  \\\n",
       "count  113777.000000  113777.000000  ...  113777.000000  113777.000000   \n",
       "mean        0.057709       0.122002  ...    2020.412913       6.596263   \n",
       "std         0.233194       0.327289  ...       0.492360       3.134237   \n",
       "min         0.000000       0.000000  ...    2020.000000       1.000000   \n",
       "25%         0.000000       0.000000  ...    2020.000000       4.000000   \n",
       "50%         0.000000       0.000000  ...    2020.000000       6.000000   \n",
       "75%         0.000000       0.000000  ...    2021.000000       9.000000   \n",
       "max         1.000000       1.000000  ...    2021.000000      12.000000   \n",
       "\n",
       "                 day  duration  l2_cap_federal  l2_bsas_zona_norte  \\\n",
       "count  113777.000000  113777.0   113777.000000       113777.000000   \n",
       "mean       15.786811       inf        0.586955            0.127961   \n",
       "std         8.719953       NaN        0.492383            0.334048   \n",
       "min         1.000000       0.0        0.000000            0.000000   \n",
       "25%         8.000000      11.0        0.000000            0.000000   \n",
       "50%        16.000000      42.0        1.000000            0.000000   \n",
       "75%        23.000000     136.0        1.000000            0.000000   \n",
       "max        31.000000       inf        1.000000            1.000000   \n",
       "\n",
       "       l2_bsas_zona_sur  l2_bsas_zona_oeste    l2_santa_fe  l2_costa_atlantica  \n",
       "count      113777.00000       113777.000000  113777.000000       113777.000000  \n",
       "mean            0.07360            0.042900       0.093138            0.022289  \n",
       "std             0.26112            0.202632       0.290627            0.147623  \n",
       "min             0.00000            0.000000       0.000000            0.000000  \n",
       "25%             0.00000            0.000000       0.000000            0.000000  \n",
       "50%             0.00000            0.000000       0.000000            0.000000  \n",
       "75%             0.00000            0.000000       0.000000            0.000000  \n",
       "max             1.00000            1.000000       1.000000            1.000000  \n",
       "\n",
       "[8 rows x 30 columns]"
      ]
     },
     "execution_count": 5,
     "metadata": {},
     "output_type": "execute_result"
    }
   ],
   "source": [
    "dataset_venta.describe()"
   ]
  },
  {
   "cell_type": "code",
   "execution_count": 6,
   "id": "1524b572",
   "metadata": {},
   "outputs": [],
   "source": [
    "dataset_venta.to_csv('dataset_dptos_venta_with_amenities.csv', index=False)\n"
   ]
  }
 ],
 "metadata": {
  "kernelspec": {
   "display_name": "Python 3 (ipykernel)",
   "language": "python",
   "name": "python3"
  },
  "language_info": {
   "codemirror_mode": {
    "name": "ipython",
    "version": 3
   },
   "file_extension": ".py",
   "mimetype": "text/x-python",
   "name": "python",
   "nbconvert_exporter": "python",
   "pygments_lexer": "ipython3",
   "version": "3.8.8"
  }
 },
 "nbformat": 4,
 "nbformat_minor": 5
}
